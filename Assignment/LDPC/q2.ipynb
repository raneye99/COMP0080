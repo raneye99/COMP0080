{
 "cells": [
  {
   "cell_type": "code",
   "execution_count": 35,
   "metadata": {},
   "outputs": [],
   "source": [
    "#import libraries\n",
    "import numpy as np\n",
    "import matplotlib.pyplot as plt\n",
    "import math\n",
    "import random\n",
    "import scipy"
   ]
  },
  {
   "cell_type": "markdown",
   "metadata": {},
   "source": [
    "#LDPC codes"
   ]
  },
  {
   "cell_type": "markdown",
   "metadata": {},
   "source": [
    "##1.\n",
    "\n",
    "Write a function that receives a parity check matrix H and builds a systematic encoding matrix G for it. The function should return two matrices: ˆH and G, such that ˆH is equal to H up to a column permutation and ˆHGt = 0 for all t."
   ]
  },
  {
   "cell_type": "code",
   "execution_count": 208,
   "metadata": {},
   "outputs": [
    {
     "name": "stdout",
     "output_type": "stream",
     "text": [
      "[[1 1 1 1 0 0]\n",
      " [0 0 1 1 0 1]\n",
      " [1 0 0 1 1 0]]\n"
     ]
    }
   ],
   "source": [
    "#initialize H\n",
    "H = np.array([[1, 1, 1, 1, 0, 0],[0, 0, 1, 1, 0, 1],[1, 0, 0, 1, 1, 0]], dtype=int)\n",
    "\n",
    "print(H)\n"
   ]
  },
  {
   "cell_type": "code",
   "execution_count": 87,
   "metadata": {},
   "outputs": [],
   "source": [
    "def rref(H):\n",
    "\n",
    "    ''' return reduce row echelon form'''\n",
    "    m, n = H.shape\n",
    "    # k = n-m\n",
    "\n",
    "    i = 0\n",
    "    j = 0\n",
    "    r = 0\n",
    "\n",
    "    H_hat = H.copy()\n",
    "\n",
    "    while True:\n",
    "\n",
    "        if i >= m or j >= n:\n",
    "            break\n",
    "        \n",
    "        # print(H_hat)\n",
    "        \n",
    "        #check if entry = 0\n",
    "        if H_hat[i,j]== 0:\n",
    "\n",
    "            #find next row with non zero entry to swap\n",
    "            r = i\n",
    "\n",
    "            while r < m and H_hat[r,j] == 0 :\n",
    "                r += 1\n",
    "            \n",
    "            #if no nonzero found skip to next column\n",
    "            if r == m:\n",
    "                j+=1\n",
    "                break\n",
    "        \n",
    "        #swap row\n",
    "        zero_row = H_hat[i,:].copy()\n",
    "        nonzero = H_hat[r,:].copy()\n",
    "        H_hat[i,:] = nonzero\n",
    "        H_hat[r,:] = zero_row\n",
    "        \n",
    "        # print(H_hat)\n",
    "\n",
    "        #perform row elimination\n",
    "        for row in range(m):\n",
    "            if row == i:\n",
    "                continue\n",
    "            #if entry does not = 0, add nonzero row, remember this is in F2 (so mod 2 addition)\n",
    "            if H_hat[row,j] != 0:\n",
    "                H_hat[row,:] = (H_hat[row,:] + H_hat[i,:]) % 2\n",
    "        \n",
    "        # print(H_hat)\n",
    "\n",
    "        i+=1\n",
    "        j+=1\n",
    "    \n",
    "    return H_hat\n"
   ]
  },
  {
   "cell_type": "code",
   "execution_count": 139,
   "metadata": {},
   "outputs": [],
   "source": [
    "def gen_G(H):\n",
    "    m, n = H.shape\n",
    "    k = n-m\n",
    "\n",
    "    H_hat = rref(H)\n",
    "    # print(\"H_hat:\\n\",H_hat)\n",
    "    P = H_hat[:, m:n]\n",
    "    # print(\"P:\\n\",P)\n",
    "    G = np.vstack((P, np.identity(k)))\n",
    "    # print(\"G\\n\",G) \n",
    "\n",
    "    return H_hat, G\n",
    "    "
   ]
  },
  {
   "cell_type": "code",
   "execution_count": 141,
   "metadata": {},
   "outputs": [
    {
     "name": "stdout",
     "output_type": "stream",
     "text": [
      "H_hat:\n",
      " [[1 0 0 1 1 0]\n",
      " [0 1 0 1 1 1]\n",
      " [0 0 1 1 0 1]] \n",
      "G:\n",
      " [[1. 1. 0.]\n",
      " [1. 1. 1.]\n",
      " [1. 0. 1.]\n",
      " [1. 0. 0.]\n",
      " [0. 1. 0.]\n",
      " [0. 0. 1.]]\n"
     ]
    }
   ],
   "source": [
    "H_hat, G = gen_G(H)\n",
    "\n",
    "print(\"H_hat:\\n\",H_hat, \"\\nG:\\n\", G)"
   ]
  },
  {
   "cell_type": "markdown",
   "metadata": {},
   "source": [
    "##3.\n",
    "\n",
    "Write an LDPC-decoder based on Loopy Belief Propagation for Binary Symmetric Channel."
   ]
  },
  {
   "cell_type": "code",
   "execution_count": 457,
   "metadata": {},
   "outputs": [
    {
     "data": {
      "text/plain": [
       "(1000,)"
      ]
     },
     "execution_count": 457,
     "metadata": {},
     "output_type": "execute_result"
    }
   ],
   "source": [
    "#import y1\n",
    "file_y = open(\"y1.txt\")\n",
    "y_content = file_y.read()\n",
    "file_y.close()\n",
    "y = y_content.split(\"\\n\")\n",
    "# print(y1)\n",
    "y = y[:-1]\n",
    "y1 = np.array([int(i) for i in y])\n",
    "\n",
    "y1.shape"
   ]
  },
  {
   "cell_type": "code",
   "execution_count": 456,
   "metadata": {},
   "outputs": [
    {
     "data": {
      "text/plain": [
       "(750, 1000)"
      ]
     },
     "execution_count": 456,
     "metadata": {},
     "output_type": "execute_result"
    }
   ],
   "source": [
    "#import H1\n",
    "file_h = open(\"H1.txt\")\n",
    "H_content = file_h.read()\n",
    "H1 = H_content.split(\"\\n\")\n",
    "H1 = H1[:-1]\n",
    "H = [np.array(i.split(), dtype=int) for i in H1]\n",
    "h1 = np.vstack(H)\n",
    "\n",
    "h1.shape\n"
   ]
  },
  {
   "cell_type": "code",
   "execution_count": 466,
   "metadata": {},
   "outputs": [],
   "source": [
    "def decode(H, y, p=.1, max_iter = 20):\n",
    "\n",
    "    success = -1\n",
    "    m, n = H.shape\n",
    "\n",
    "    #list of factor checks\n",
    "    B = []\n",
    "    for i in range(m):\n",
    "        B.append(np.where(H[i]==1)[0])\n",
    "    # print(\"Bit Check:\",B)\n",
    "\n",
    "    #probability y given x\n",
    "\n",
    "    #if true val is 1\n",
    "    P_y_x1 = np.zeros(len(y))\n",
    "    #if true val is 0\n",
    "    P_y_x0 = np.zeros(len(y))\n",
    "\n",
    "    for i in range(len(y)):\n",
    "        P_y_x1[i] = p**((y[i]+1)%2) * (1-p)**((y[i]+1+1)%2)\n",
    "        P_y_x0[i] = p**(y[i]) * (1-p)**((y[i]+1)%2)\n",
    "\n",
    "    #initialize\n",
    "    M = np.zeros((m,n))\n",
    "\n",
    "    # print(M)\n",
    "\n",
    "    for i in range(m):\n",
    "        for j in range(n):\n",
    "            #for efficiency: take difference and use log liklihood:\n",
    "            # then u(0) - u(1) -> log(u(0))-log(u(1)) = log(u(0)/u(1))\n",
    "            M[i,j] = np.log([P_y_x0[j]/P_y_x1[j]])\n",
    "    \n",
    "    # print(\"Initial Message:\\n\",M)\n",
    "   \n",
    "\n",
    "    for iter in range(max_iter):\n",
    "        \n",
    "        #factor to variable \n",
    "        M_f = np.zeros((m,n))\n",
    "\n",
    "        for j in range(len(B)):\n",
    "                \n",
    "            new_row = np.zeros(n)\n",
    "            # print(\"\\nrow:\", j)\n",
    "\n",
    "            #get values of M for all indexes where h==1 for the jth row\n",
    "            prod = M[j,(B[j])]\n",
    "            # print(prod)\n",
    "            \n",
    "            for i in range(len(prod)):\n",
    "\n",
    "                # print(\"\\nindex:\", B[j][i])\n",
    "\n",
    "                #take product of all incoming messages excludng the ith bit\n",
    "                to_prod = np.hstack((prod[0:i],prod[i+1:len(prod)]))\n",
    "                product = np.prod(np.tanh(to_prod/2))\n",
    "                to_log = (1+product)/(1-product)\n",
    "                # print(\"log:\",to_log)\n",
    "                \n",
    "                new_row[B[j][i]] = np.log(to_log)\n",
    "            \n",
    "            # print(j, new_row)\n",
    "                \n",
    "            M_f[j,:] = new_row\n",
    "            # M[j,:] = new_row\n",
    "        \n",
    "        # print(M_f)\n",
    "\n",
    "        #calc log liklihood of posterior\n",
    "        posterior = np.sum(M_f, axis = 0)\n",
    "        \n",
    "        for i in range(n):\n",
    "            # calc log like\n",
    "            posterior[i] += np.log([P_y_x0[i]/P_y_x1[i]])\n",
    "        \n",
    "        # print(\"\\nposterior\",posterior)\n",
    "        \n",
    "        #update prediction\n",
    "        z = np.zeros(n)\n",
    "        for i in range(n):\n",
    "            if posterior[i]>0:\n",
    "                z[i]=0\n",
    "            else:\n",
    "                z[i]=1\n",
    "        \n",
    "        # print(\"\\nprediction:\", z)\n",
    "            \n",
    "        #test, dont forget mod 2\n",
    "        test = np.matmul(H, z.T)% 2\n",
    "\n",
    "        #check if parity conditions met or reached max iterations\n",
    "        if iter == max_iter or np.all(test == 0):\n",
    "            success = 0\n",
    "            break\n",
    "        \n",
    "        #if not continue\n",
    "        else:\n",
    "            \n",
    "            #update variable to factor\n",
    "            for i in range(n):\n",
    "                for j in range(m):\n",
    "                    M[j,i] = posterior[i] - M_f[j,i]\n",
    "    \n",
    "    return success, iter+1, z\n"
   ]
  },
  {
   "cell_type": "code",
   "execution_count": 465,
   "metadata": {},
   "outputs": [
    {
     "name": "stdout",
     "output_type": "stream",
     "text": [
      "Bit Check: [array([0, 1, 3]), array([1, 2, 4]), array([0, 4, 5]), array([2, 3, 5])]\n",
      "Initial Message:\n",
      " [[-2.19722458  2.19722458 -2.19722458  2.19722458 -2.19722458 -2.19722458]\n",
      " [-2.19722458  2.19722458 -2.19722458  2.19722458 -2.19722458 -2.19722458]\n",
      " [-2.19722458  2.19722458 -2.19722458  2.19722458 -2.19722458 -2.19722458]\n",
      " [-2.19722458  2.19722458 -2.19722458  2.19722458 -2.19722458 -2.19722458]]\n"
     ]
    },
    {
     "data": {
      "text/plain": [
       "(0, 1, array([0., 0., 1., 0., 1., 1.]))"
      ]
     },
     "execution_count": 465,
     "metadata": {},
     "output_type": "execute_result"
    }
   ],
   "source": [
    "H_test = np.array([[1, 1, 0, 1, 0, 0],[0, 1, 1, 0, 1, 0],[1, 0, 0, 0, 1, 1], [0, 0, 1, 1, 0, 1]], dtype=int)\n",
    "y_test = np.array([1,0,1,0,1,1])\n",
    "\n",
    "# print(H_test)\n",
    "\n",
    "decode(H_test,y_test, p=.1, max_iter=20)\n",
    "\n",
    "# np.array(np.where(H_test[1] == 1)[0])"
   ]
  },
  {
   "cell_type": "code",
   "execution_count": 468,
   "metadata": {},
   "outputs": [],
   "source": [
    "success,iter,decoded = decode(h1,y1, p=.1, max_iter=20)"
   ]
  },
  {
   "cell_type": "code",
   "execution_count": 470,
   "metadata": {},
   "outputs": [
    {
     "name": "stdout",
     "output_type": "stream",
     "text": [
      "0 8 \n",
      " [0. 1. 0. 0. 1. 0. 0. 0. 0. 1. 1. 0. 0. 0. 0. 1. 0. 1. 1. 1. 0. 0. 0. 0.\n",
      " 0. 1. 1. 1. 0. 0. 0. 0. 0. 1. 1. 1. 1. 0. 0. 1. 0. 0. 1. 0. 0. 0. 0. 0.\n",
      " 0. 1. 0. 0. 1. 0. 0. 0. 0. 1. 1. 0. 1. 1. 1. 1. 0. 1. 1. 0. 1. 1. 0. 0.\n",
      " 0. 1. 1. 0. 1. 0. 0. 1. 0. 1. 1. 0. 0. 1. 0. 0. 0. 1. 1. 0. 0. 0. 0. 1.\n",
      " 0. 1. 1. 1. 1. 0. 0. 1. 0. 1. 1. 1. 0. 0. 1. 1. 0. 0. 1. 0. 0. 0. 0. 1.\n",
      " 0. 0. 1. 0. 0. 0. 0. 0. 0. 1. 0. 0. 0. 1. 0. 0. 0. 1. 1. 0. 1. 1. 0. 1.\n",
      " 0. 1. 1. 0. 1. 0. 0. 1. 0. 1. 1. 1. 0. 1. 0. 0. 0. 1. 1. 1. 0. 0. 1. 0.\n",
      " 0. 1. 1. 1. 1. 0. 0. 1. 0. 0. 1. 0. 0. 1. 1. 0. 0. 1. 0. 0. 0. 1. 0. 0.\n",
      " 0. 1. 1. 0. 0. 0. 0. 1. 0. 1. 1. 1. 0. 1. 1. 0. 0. 1. 1. 0. 1. 0. 0. 1.\n",
      " 0. 1. 1. 0. 0. 1. 0. 0. 0. 0. 1. 0. 0. 0. 0. 0. 0. 0. 1. 1. 1. 0. 1. 0.\n",
      " 0. 0. 1. 0. 1. 0. 0. 1. 0. 0. 0. 0. 1. 1. 0. 0. 1. 1. 1. 1. 1. 1. 1. 1.\n",
      " 1. 1. 0. 0. 0. 0. 1. 1. 0. 0. 0. 0. 1. 1. 0. 0. 0. 0. 1. 1. 0. 1. 0. 1.\n",
      " 1. 0. 0. 1. 1. 0. 1. 0. 1. 0. 1. 0. 1. 1. 1. 1. 1. 1. 1. 1. 0. 0. 0. 0.\n",
      " 0. 0. 0. 0. 1. 1. 0. 0. 1. 1. 0. 0. 0. 0. 0. 0. 1. 1. 0. 0. 1. 0. 1. 0.\n",
      " 1. 0. 0. 1. 1. 1. 1. 1. 1. 0. 1. 0. 1. 1. 0. 0. 0. 0. 0. 0. 1. 0. 0. 1.\n",
      " 1. 1. 1. 1. 0. 1. 0. 1. 0. 1. 1. 0. 0. 1. 1. 0. 0. 1. 0. 1. 0. 0. 1. 1.\n",
      " 1. 0. 1. 0. 0. 0. 0. 0. 1. 0. 0. 1. 1. 1. 0. 0. 0. 0. 0. 0. 0. 1. 1. 0.\n",
      " 0. 0. 0. 0. 0. 1. 1. 0. 0. 1. 1. 0. 0. 0. 0. 0. 1. 0. 0. 1. 1. 0. 0. 1.\n",
      " 1. 0. 0. 1. 1. 0. 0. 1. 1. 1. 0. 0. 1. 1. 1. 1. 1. 1. 1. 1. 0. 0. 0. 0.\n",
      " 0. 0. 1. 1. 0. 0. 1. 1. 0. 1. 1. 0. 0. 1. 0. 1. 1. 0. 0. 1. 0. 1. 1. 0.\n",
      " 1. 0. 0. 1. 0. 1. 1. 0. 0. 1. 1. 0. 1. 0. 0. 1. 0. 1. 1. 0. 0. 0. 0. 0.\n",
      " 1. 0. 1. 0. 0. 0. 1. 1. 0. 1. 1. 0. 1. 1. 1. 1. 0. 0. 0. 0. 1. 1. 1. 1.\n",
      " 1. 1. 0. 0. 1. 1. 1. 1. 1. 0. 1. 0. 0. 1. 1. 0. 0. 1. 0. 1. 1. 1. 1. 1.\n",
      " 1. 1. 0. 0. 1. 0. 0. 1. 1. 0. 0. 1. 1. 0. 1. 0. 1. 0. 1. 0. 0. 1. 1. 0.\n",
      " 0. 0. 1. 1. 1. 1. 0. 0. 0. 1. 1. 0. 1. 1. 0. 0. 0. 1. 1. 0. 1. 0. 0. 1.\n",
      " 1. 0. 0. 1. 0. 1. 1. 0. 1. 0. 1. 0. 1. 1. 1. 1. 1. 0. 0. 1. 0. 1. 1. 0.\n",
      " 0. 1. 1. 0. 1. 1. 1. 1. 1. 1. 0. 0. 0. 1. 0. 1. 1. 1. 0. 0. 1. 1. 1. 1.\n",
      " 0. 0. 0. 0. 0. 0. 0. 0. 0. 1. 0. 1. 0. 1. 1. 0. 1. 1. 0. 0. 0. 0. 0. 0.\n",
      " 0. 0. 1. 1. 0. 0. 1. 1. 1. 1. 1. 1. 0. 1. 1. 0. 0. 1. 1. 0. 1. 0. 0. 1.\n",
      " 0. 0. 1. 1. 1. 0. 1. 0. 0. 1. 0. 1. 1. 0. 1. 0. 0. 0. 1. 1. 0. 0. 1. 1.\n",
      " 0. 0. 1. 1. 1. 1. 0. 0. 1. 0. 1. 0. 1. 1. 0. 0. 1. 0. 0. 1. 1. 0. 1. 0.\n",
      " 1. 0. 0. 1. 1. 1. 1. 1. 0. 1. 1. 0. 0. 1. 1. 0. 1. 0. 1. 0. 0. 0. 1. 1.\n",
      " 1. 1. 1. 1. 1. 0. 1. 0. 1. 0. 1. 0. 0. 0. 0. 0. 0. 1. 0. 1. 1. 0. 0. 1.\n",
      " 0. 0. 0. 0. 1. 0. 1. 0. 1. 0. 0. 1. 0. 1. 0. 1. 1. 1. 1. 1. 0. 1. 1. 0.\n",
      " 0. 0. 1. 1. 1. 1. 0. 0. 0. 0. 0. 0. 0. 1. 0. 1. 0. 1. 1. 0. 1. 1. 0. 0.\n",
      " 0. 0. 1. 1. 1. 1. 1. 1. 0. 0. 1. 1. 0. 0. 0. 0. 0. 0. 1. 1. 0. 1. 1. 0.\n",
      " 1. 1. 1. 1. 0. 0. 1. 1. 0. 1. 0. 1. 0. 1. 1. 0. 1. 0. 0. 1. 1. 1. 1. 1.\n",
      " 1. 1. 1. 1. 0. 0. 0. 0. 1. 1. 0. 0. 0. 1. 1. 0. 1. 1. 0. 1. 0. 0. 0. 1.\n",
      " 0. 1. 0. 1. 1. 0. 1. 1. 1. 0. 0. 1. 0. 0. 1. 0. 0. 1. 1. 1. 0. 0. 1. 1.\n",
      " 0. 1. 0. 1. 1. 0. 1. 0. 1. 1. 1. 0. 0. 1. 0. 0. 1. 0. 1. 0. 1. 0. 1. 0.\n",
      " 1. 1. 1. 1. 0. 1. 1. 1. 0. 1. 1. 0. 0. 0. 1. 1. 1. 1. 1. 1. 1. 1. 0. 1.\n",
      " 1. 0. 1. 1. 0. 0. 1. 0. 1. 1. 0. 0. 1. 1. 1. 0.]\n"
     ]
    }
   ],
   "source": [
    "print(success, iter, \"\\n\",decoded)"
   ]
  },
  {
   "cell_type": "code",
   "execution_count": 506,
   "metadata": {},
   "outputs": [
    {
     "name": "stdout",
     "output_type": "stream",
     "text": [
      "H\n",
      "a\n",
      "p\n",
      "p\n",
      "y\n",
      " \n",
      "H\n",
      "o\n",
      "l\n",
      "i\n",
      "d\n",
      "a\n",
      "y\n",
      "s\n",
      "!\n",
      " \n",
      "D\n",
      "m\n",
      "i\n",
      "t\n",
      "r\n",
      "y\n",
      "&\n",
      "D\n",
      "a\n",
      "v\n",
      "i\n",
      "d\n",
      " \n",
      ":\n",
      ")\n"
     ]
    }
   ],
   "source": [
    "#translate \n",
    "decoded.shape\n",
    "\n",
    "x = np.reshape(decoded.astype(int), (125,8))\n",
    "x = x.astype(str)\n",
    "lst = x.tolist()\n",
    "\n",
    "b = []\n",
    "for i in range(len(lst)):\n",
    "    b.append(''.join(map(str, lst[i])))\n",
    "\n",
    "for i in range(31):\n",
    "    print(chr(int(b[i],2)))\n"
   ]
  },
  {
   "cell_type": "code",
   "execution_count": 505,
   "metadata": {},
   "outputs": [
    {
     "data": {
      "text/plain": [
       "125"
      ]
     },
     "execution_count": 505,
     "metadata": {},
     "output_type": "execute_result"
    }
   ],
   "source": [
    "len(x)"
   ]
  }
 ],
 "metadata": {
  "interpreter": {
   "hash": "e7370f93d1d0cde622a1f8e1c04877d8463912d04d973331ad4851f04de6915a"
  },
  "kernelspec": {
   "display_name": "Python 3.8.10 64-bit",
   "language": "python",
   "name": "python3"
  },
  "language_info": {
   "codemirror_mode": {
    "name": "ipython",
    "version": 3
   },
   "file_extension": ".py",
   "mimetype": "text/x-python",
   "name": "python",
   "nbconvert_exporter": "python",
   "pygments_lexer": "ipython3",
   "version": "3.8.10"
  },
  "orig_nbformat": 4
 },
 "nbformat": 4,
 "nbformat_minor": 2
}
