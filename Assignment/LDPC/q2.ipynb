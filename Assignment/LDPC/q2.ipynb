{
 "cells": [
  {
   "cell_type": "code",
   "execution_count": 35,
   "metadata": {},
   "outputs": [],
   "source": [
    "#import libraries\n",
    "import numpy as np\n",
    "import matplotlib.pyplot as plt\n",
    "import math\n",
    "import random\n",
    "import scipy"
   ]
  },
  {
   "cell_type": "markdown",
   "metadata": {},
   "source": [
    "#LDPC codes"
   ]
  },
  {
   "cell_type": "markdown",
   "metadata": {},
   "source": [
    "##1.\n",
    "\n",
    "Write a function that receives a parity check matrix H and builds a systematic encoding matrix G for it. The function should return two matrices: ˆH and G, such that ˆH is equal to H up to a column permutation and ˆHGt = 0 for all t."
   ]
  },
  {
   "cell_type": "code",
   "execution_count": 70,
   "metadata": {},
   "outputs": [
    {
     "name": "stdout",
     "output_type": "stream",
     "text": [
      "[[1 1 1 1 0 0]\n",
      " [0 0 1 1 0 1]\n",
      " [1 0 0 1 1 0]]\n"
     ]
    }
   ],
   "source": [
    "#initialize H\n",
    "H = np.array([[1, 1, 1, 1, 0, 0],[0, 0, 1, 1, 0, 1],[1, 0, 0, 1, 1, 0]], dtype=int)\n",
    "\n",
    "print(H)\n"
   ]
  },
  {
   "cell_type": "code",
   "execution_count": 87,
   "metadata": {},
   "outputs": [],
   "source": [
    "def rref(H):\n",
    "\n",
    "    ''' return reduce row echelon form'''\n",
    "    m, n = H.shape\n",
    "    # k = n-m\n",
    "\n",
    "    i = 0\n",
    "    j = 0\n",
    "    r = 0\n",
    "\n",
    "    H_hat = H.copy()\n",
    "\n",
    "    while True:\n",
    "\n",
    "        if i >= m or j >= n:\n",
    "            break\n",
    "        \n",
    "        # print(H_hat)\n",
    "        \n",
    "        #check if entry = 0\n",
    "        if H_hat[i,j]== 0:\n",
    "\n",
    "            #find next row with non zero entry to swap\n",
    "            r = i\n",
    "\n",
    "            while r < m and H_hat[r,j] == 0 :\n",
    "                r += 1\n",
    "            \n",
    "            #if no nonzero found skip to next column\n",
    "            if r == m:\n",
    "                j+=1\n",
    "                break\n",
    "        \n",
    "        #swap row\n",
    "        zero_row = H_hat[i,:].copy()\n",
    "        nonzero = H_hat[r,:].copy()\n",
    "        H_hat[i,:] = nonzero\n",
    "        H_hat[r,:] = zero_row\n",
    "        \n",
    "        # print(H_hat)\n",
    "\n",
    "        #perform row elimination\n",
    "        for row in range(m):\n",
    "            if row == i:\n",
    "                continue\n",
    "            #if entry does not = 0, add nonzero row, remember this is in F2 (so mod 2 addition)\n",
    "            if H_hat[row,j] != 0:\n",
    "                H_hat[row,:] = (H_hat[row,:] + H_hat[i,:]) % 2\n",
    "        \n",
    "        # print(H_hat)\n",
    "\n",
    "        i+=1\n",
    "        j+=1\n",
    "    \n",
    "    return H_hat\n"
   ]
  },
  {
   "cell_type": "code",
   "execution_count": 139,
   "metadata": {},
   "outputs": [],
   "source": [
    "def gen_G(H):\n",
    "    m, n = H.shape\n",
    "    k = n-m\n",
    "\n",
    "    H_hat = rref(H)\n",
    "    # print(\"H_hat:\\n\",H_hat)\n",
    "    P = H_hat[:, m:n]\n",
    "    # print(\"P:\\n\",P)\n",
    "    G = np.vstack((P, np.identity(k)))\n",
    "    # print(\"G\\n\",G) \n",
    "\n",
    "    return H_hat, G\n",
    "    "
   ]
  },
  {
   "cell_type": "code",
   "execution_count": 141,
   "metadata": {},
   "outputs": [
    {
     "name": "stdout",
     "output_type": "stream",
     "text": [
      "H_hat:\n",
      " [[1 0 0 1 1 0]\n",
      " [0 1 0 1 1 1]\n",
      " [0 0 1 1 0 1]] \n",
      "G:\n",
      " [[1. 1. 0.]\n",
      " [1. 1. 1.]\n",
      " [1. 0. 1.]\n",
      " [1. 0. 0.]\n",
      " [0. 1. 0.]\n",
      " [0. 0. 1.]]\n"
     ]
    }
   ],
   "source": [
    "H_hat, G = gen_G(H)\n",
    "\n",
    "print(\"H_hat:\\n\",H_hat, \"\\nG:\\n\", G)"
   ]
  },
  {
   "cell_type": "markdown",
   "metadata": {},
   "source": [
    "##3.\n",
    "\n",
    "Write an LDPC-decoder based on Loopy Belief Propagation for Binary Symmetric Channel."
   ]
  },
  {
   "cell_type": "code",
   "execution_count": 201,
   "metadata": {},
   "outputs": [
    {
     "data": {
      "text/plain": [
       "(1000,)"
      ]
     },
     "execution_count": 201,
     "metadata": {},
     "output_type": "execute_result"
    }
   ],
   "source": [
    "#import y1\n",
    "file_y = open(\"y1.txt\")\n",
    "y_content = file_y.read()\n",
    "file_y.close()\n",
    "y = y_content.split(\"\\n\")\n",
    "# print(y1)\n",
    "y = y[:-1]\n",
    "y1 = np.array([int(i) for i in y])\n",
    "\n",
    "y1.shape"
   ]
  },
  {
   "cell_type": "code",
   "execution_count": 205,
   "metadata": {},
   "outputs": [
    {
     "data": {
      "text/plain": [
       "(750, 1000)"
      ]
     },
     "execution_count": 205,
     "metadata": {},
     "output_type": "execute_result"
    }
   ],
   "source": [
    "#import H1\n",
    "file_h = open(\"H1.txt\")\n",
    "H_content = file_h.read()\n",
    "H1 = H_content.split(\"\\n\")\n",
    "H1 = H1[:-1]\n",
    "H = [np.array(i.split(), dtype=int) for i in H1]\n",
    "h1 = np.vstack(H)\n",
    "\n",
    "h1.shape\n"
   ]
  },
  {
   "cell_type": "code",
   "execution_count": null,
   "metadata": {},
   "outputs": [],
   "source": [
    "def decode(H, y, p=.1, max_iter = 20):\n",
    "\n",
    "    iter = 0\n",
    "    m, n = H.shape\n",
    "    k = n-m\n",
    "\n",
    "    #initialize\n",
    "    x = y.copy()\n",
    "\n",
    "    for j in m:\n",
    "        for i in n:\n",
    "\n",
    "    "
   ]
  }
 ],
 "metadata": {
  "interpreter": {
   "hash": "e7370f93d1d0cde622a1f8e1c04877d8463912d04d973331ad4851f04de6915a"
  },
  "kernelspec": {
   "display_name": "Python 3.8.10 64-bit",
   "language": "python",
   "name": "python3"
  },
  "language_info": {
   "codemirror_mode": {
    "name": "ipython",
    "version": 3
   },
   "file_extension": ".py",
   "mimetype": "text/x-python",
   "name": "python",
   "nbconvert_exporter": "python",
   "pygments_lexer": "ipython3",
   "version": "3.8.10"
  },
  "orig_nbformat": 4
 },
 "nbformat": 4,
 "nbformat_minor": 2
}
