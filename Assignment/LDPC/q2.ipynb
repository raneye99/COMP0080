{
 "cells": [
  {
   "cell_type": "code",
   "execution_count": 35,
   "metadata": {},
   "outputs": [],
   "source": [
    "#import libraries\n",
    "import numpy as np\n",
    "import matplotlib.pyplot as plt\n",
    "import math\n",
    "import random\n",
    "import scipy"
   ]
  },
  {
   "cell_type": "markdown",
   "metadata": {},
   "source": [
    "#LDPC codes"
   ]
  },
  {
   "cell_type": "markdown",
   "metadata": {},
   "source": [
    "##1.\n",
    "\n",
    "Write a function that receives a parity check matrix H and builds a systematic encoding matrix G for it. The function should return two matrices: ˆH and G, such that ˆH is equal to H up to a column permutation and ˆHGt = 0 for all t."
   ]
  },
  {
   "cell_type": "code",
   "execution_count": 36,
   "metadata": {},
   "outputs": [
    {
     "name": "stdout",
     "output_type": "stream",
     "text": [
      "[[1 1 1 1 0 0]\n",
      " [0 0 1 1 0 1]\n",
      " [1 0 0 1 1 0]]\n"
     ]
    }
   ],
   "source": [
    "#initialize H\n",
    "H = np.array([[1, 1, 1, 1, 0, 0],[0, 0, 1, 1, 0, 1],[1, 0, 0, 1, 1, 0]], dtype=int)\n",
    "\n",
    "print(H)\n"
   ]
  },
  {
   "cell_type": "code",
   "execution_count": 42,
   "metadata": {},
   "outputs": [
    {
     "name": "stdout",
     "output_type": "stream",
     "text": [
      "6 3 3\n"
     ]
    },
    {
     "data": {
      "text/plain": [
       "array([1, 1, 1, 1, 0, 0])"
      ]
     },
     "execution_count": 42,
     "metadata": {},
     "output_type": "execute_result"
    }
   ],
   "source": [
    "m, n = H.shape\n",
    "k = n-m\n",
    "\n",
    "print(n,k,m)\n",
    "\n",
    "H[0,:]\n",
    "    "
   ]
  },
  {
   "cell_type": "code",
   "execution_count": 51,
   "metadata": {},
   "outputs": [],
   "source": [
    "def ref(H):\n",
    "    ''' return row echelon form'''\n",
    "    m, n = H.shape\n",
    "    k = n-m\n",
    "\n",
    "    #copy H so that no switches/edits are applied\n",
    "    H_hat = H.copy()\n",
    "\n",
    "    if m == 0 or n==0:\n",
    "        return H_hat\n",
    "    \n",
    "    for row in range(m):\n",
    "\n",
    "        #search for 1 in first column\n",
    "        if (H_hat[row,0]!= 0):\n",
    "            break\n",
    "\n",
    "    #if this is not the first row, switch\n",
    "    if row>0:\n",
    "        copy_row = H_hat[row].copy()\n",
    "        H_hat[row]= H_hat[0]\n",
    "        H_hat[0] = copy_row\n",
    "    \n",
    "    #add new row 1 to all rows with 1 in first col\n",
    "    for rows_below in range(1,m):\n",
    "        if (H_hat[rows_below,0]!=0):\n",
    "            H_hat[rows_below,:] = (H_hat[0,:] + H_hat[rows_below,:]) % 2\n",
    "    \n",
    "    #then proceed to second row, second col and do the same and so on\n",
    "    H_sub = ref(H_hat[1:m,1:n])\n",
    "\n",
    "    #return row echelon form, add first col and first row back on\n",
    "    return np.vstack([H_hat[:,0],np.hstack([H_hat[0,:], H_sub])])\n",
    "        \n",
    "\n"
   ]
  }
 ],
 "metadata": {
  "interpreter": {
   "hash": "e7370f93d1d0cde622a1f8e1c04877d8463912d04d973331ad4851f04de6915a"
  },
  "kernelspec": {
   "display_name": "Python 3.8.10 64-bit",
   "language": "python",
   "name": "python3"
  },
  "language_info": {
   "codemirror_mode": {
    "name": "ipython",
    "version": 3
   },
   "file_extension": ".py",
   "mimetype": "text/x-python",
   "name": "python",
   "nbconvert_exporter": "python",
   "pygments_lexer": "ipython3",
   "version": "3.8.10"
  },
  "orig_nbformat": 4
 },
 "nbformat": 4,
 "nbformat_minor": 2
}
