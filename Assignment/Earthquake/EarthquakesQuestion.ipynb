{
 "cells": [
  {
   "cell_type": "code",
   "execution_count": 12,
   "metadata": {},
   "outputs": [],
   "source": [
    "import numpy as np\n",
    "import sys\n",
    "np.set_printoptions(threshold=sys.maxsize)\n",
    "import matplotlib.pyplot as plt\n",
    "from itertools import product\n",
    "import time\n",
    "import os\n",
    "from scipy.stats import norm"
   ]
  },
  {
   "cell_type": "code",
   "execution_count": 63,
   "metadata": {},
   "outputs": [],
   "source": [
    "data = np.loadtxt('EarthquakeExerciseData.txt')\n",
    "scaled_data = 1 + data/max(data) # for plotting purposes\n",
    "# adding 1 to the obvs value to ensure outward projection, (cos and sin values of the )"
   ]
  },
  {
   "cell_type": "code",
   "execution_count": 3,
   "metadata": {},
   "outputs": [],
   "source": [
    "def value(x_true,y_true,x_sensor,y_sensor):\n",
    "    return 1/(0.1+ (x_true-x_sensor)**2 + (y_true-y_sensor)**2)"
   ]
  },
  {
   "cell_type": "markdown",
   "metadata": {},
   "source": [
    "# Question 1"
   ]
  },
  {
   "cell_type": "markdown",
   "metadata": {},
   "source": [
    "### Building spherical coordinate system"
   ]
  },
  {
   "cell_type": "code",
   "execution_count": 4,
   "metadata": {},
   "outputs": [],
   "source": [
    "S=2000 # number of points on the spiral\n",
    "rate=25 # angular rate of spiral\n",
    "sd=0.2 # standard deviation of the sensor Gaussian noise\n",
    "\n",
    "# building the spherical coordinate system as done in setup file\n",
    "x=np.zeros(S)\n",
    "y=np.zeros(S)\n",
    "for s in range(S):\n",
    "    theta=rate*2*np.pi*s/S \n",
    "    r=s/S\n",
    "    x[s]=r*np.cos(theta)\n",
    "    y[s]=r*np.sin(theta)\n"
   ]
  },
  {
   "cell_type": "markdown",
   "metadata": {},
   "source": [
    "### Computing station locations"
   ]
  },
  {
   "cell_type": "code",
   "execution_count": 5,
   "metadata": {},
   "outputs": [
    {
     "data": {
      "text/plain": [
       "<matplotlib.collections.PathCollection at 0x11d1bbeb8>"
      ]
     },
     "execution_count": 5,
     "metadata": {},
     "output_type": "execute_result"
    },
    {
     "data": {
      "image/png": "[encoded data removed]",
      "text/plain": [
       "<Figure size 432x288 with 1 Axes>"
      ]
     },
     "metadata": {
      "needs_background": "light"
     },
     "output_type": "display_data"
    }
   ],
   "source": [
    "# getting positions of the stations    \n",
    "N=len(data) # number of stations\n",
    "sd=0.2 # standard deviation of the sensor noise\n",
    "x_sensor = np.zeros(N)\n",
    "y_sensor = np.zeros(N)\n",
    "for sensor in range(N):\n",
    "    theta_sensor = 2*np.pi*sensor/N\n",
    "    x_sensor[sensor] = np.cos(theta_sensor)\n",
    "    y_sensor[sensor] = np.sin(theta_sensor)\n",
    "\n",
    "# plotting positions of the stations\n",
    "plt.scatter(x_sensor, y_sensor)"
   ]
  },
  {
   "cell_type": "markdown",
   "metadata": {},
   "source": [
    "### Building hypothesis space"
   ]
  },
  {
   "cell_type": "code",
   "execution_count": 56,
   "metadata": {},
   "outputs": [
    {
     "name": "stdout",
     "output_type": "stream",
     "text": [
      "Building the hypothesis space...\n",
      "Took 8.288915872573853 seconds to build hypothesis space for 2 earthquakes\n",
      "Took 15.388486862182617 seconds to build hypothesis space for 2 earthquakes\n",
      "Took 22.131288766860962 seconds to build hypothesis space for 2 earthquakes\n",
      "Took 28.881224870681763 seconds to build hypothesis space for 2 earthquakes\n",
      "Took 35.59446692466736 seconds to build hypothesis space for 2 earthquakes\n",
      "Took 42.19239592552185 seconds to build hypothesis space for 2 earthquakes\n",
      "Took 48.78396987915039 seconds to build hypothesis space for 2 earthquakes\n",
      "Took 55.41582489013672 seconds to build hypothesis space for 2 earthquakes\n",
      "Took 61.98948097229004 seconds to build hypothesis space for 2 earthquakes\n",
      "Took 68.65791177749634 seconds to build hypothesis space for 2 earthquakes\n",
      "Took 75.3321008682251 seconds to build hypothesis space for 2 earthquakes\n",
      "Took 82.0192859172821 seconds to build hypothesis space for 2 earthquakes\n",
      "Took 88.62616181373596 seconds to build hypothesis space for 2 earthquakes\n",
      "Took 95.18515372276306 seconds to build hypothesis space for 2 earthquakes\n",
      "Took 101.80453586578369 seconds to build hypothesis space for 2 earthquakes\n",
      "Took 108.58720684051514 seconds to build hypothesis space for 2 earthquakes\n",
      "Took 115.20320105552673 seconds to build hypothesis space for 2 earthquakes\n",
      "Took 121.82470989227295 seconds to build hypothesis space for 2 earthquakes\n",
      "Took 128.4105999469757 seconds to build hypothesis space for 2 earthquakes\n",
      "Took 135.1734058856964 seconds to build hypothesis space for 2 earthquakes\n",
      "Took 141.78128695487976 seconds to build hypothesis space for 2 earthquakes\n",
      "Took 148.50562000274658 seconds to build hypothesis space for 2 earthquakes\n",
      "Took 155.20583510398865 seconds to build hypothesis space for 2 earthquakes\n",
      "Took 162.18430495262146 seconds to build hypothesis space for 2 earthquakes\n",
      "Took 168.8131709098816 seconds to build hypothesis space for 2 earthquakes\n",
      "Took 175.6162350177765 seconds to build hypothesis space for 2 earthquakes\n",
      "Took 182.63084983825684 seconds to build hypothesis space for 2 earthquakes\n",
      "Took 189.25126671791077 seconds to build hypothesis space for 2 earthquakes\n",
      "Took 196.44132590293884 seconds to build hypothesis space for 2 earthquakes\n",
      "Took 203.25082802772522 seconds to build hypothesis space for 2 earthquakes\n",
      "(2000, 2000)\n"
     ]
    }
   ],
   "source": [
    "# Building hypothesis space\n",
    "# earthquakes are said to be independent, hence the value function is called independently at every station\n",
    "print('Building the hypothesis space...')\n",
    "build = time.time()\n",
    "hypothesis = np.zeros((S,N))\n",
    "for s in range(0,S):\n",
    "    for i in range(N):\n",
    "        hypothesis[s][i]=value(x[s],y[s],x_sensor[i],y_sensor[i])\n",
    "\n",
    "v = np.zeros((S,S, N))\n",
    "for i in range(30):\n",
    "    for j in range(S):\n",
    "        for k in range(S):\n",
    "            #D-value for 2 explosions - V * V.T\n",
    "            v[j,k,i] = hypothesis[j,i] + hypothesis[k,i] + 0.2*np.random.randn() # explosion value\n",
    "\n",
    "print('Took',time.time() - build,'seconds to build hypothesis space for 2 earthquakes')\n",
    "\n"
   ]
  },
  {
   "cell_type": "markdown",
   "metadata": {},
   "source": [
    "### Computing/Plotting posterior distribution\n",
    "Given that prior is uniform, posterior is proportional to the likelihood."
   ]
  },
  {
   "cell_type": "code",
   "execution_count": 80,
   "metadata": {},
   "outputs": [],
   "source": [
    "# Determine likelihood, p(location|observed sensor values), given these sensor values\n",
    "like = np.ones((S,S)) \n",
    "for i in range(N):\n",
    "    like[:, :] *= norm.pdf(v[:,:,i], data[i], sd)\n",
    "double_sum = like.sum(axis = 1) # summing along one direction in order to marginalise out s2\n",
    "double_scale = double_sum/double_sum.max()"
   ]
  },
  {
   "cell_type": "code",
   "execution_count": 87,
   "metadata": {},
   "outputs": [
    {
     "data": {
      "image/png": "[encoded data removed]",
      "text/plain": [
       "<Figure size 432x288 with 1 Axes>"
      ]
     },
     "metadata": {
      "needs_background": "light"
     },
     "output_type": "display_data"
    }
   ],
   "source": [
    "plt.figure()\n",
    "\n",
    "\n",
    "# plotting posterior distribution of s1\n",
    "plt.scatter(x, y, s = double_sum*100,zorder = 0, color = \"black\")\n",
    "\n",
    "# plottling perimeter\n",
    "for theta in np.arange(0,2*np.pi,0.01):\n",
    "    plt.plot(np.cos(theta),np.sin(theta),\".\",color=[0,0,0])\n",
    "\n",
    "# plotting station locations\n",
    "for sensor in range(N):\n",
    "    plt.plot(x_sensor[sensor],y_sensor[sensor],\"o\",color=[1,0,0])\n",
    "\n",
    "# plotting observed values at each sensor (spikes shown in fig (1.3))\n",
    "for sensor in range(N):\n",
    "    scale =1\n",
    "    theta_sensor = 2*np.pi*sensor/N\n",
    "    base = [x_sensor[sensor],((scaled_data[sensor])*np.cos(theta_sensor))] \n",
    "    top = [y_sensor[sensor], ((scaled_data[sensor])*np.sin(theta_sensor))]\n",
    "    plt.plot(base, top,\"-\",color='b')\n",
    "\n",
    "\n",
    "plt.title(\"Distribution of $P(S_{1}|V)$\")\n",
    "plt.savefig('posterior.png')\n",
    "plt.show()\n"
   ]
  },
  {
   "cell_type": "markdown",
   "metadata": {},
   "source": [
    "# Question 2"
   ]
  },
  {
   "cell_type": "markdown",
   "metadata": {},
   "source": [
    "### Building hypotheses"
   ]
  },
  {
   "cell_type": "code",
   "execution_count": 66,
   "metadata": {},
   "outputs": [
    {
     "name": "stdout",
     "output_type": "stream",
     "text": [
      "Took 0.23713421821594238 seconds to build hypothesis space for 1 earthquake\n"
     ]
    }
   ],
   "source": [
    "# Building hypothesis space for 1 explosion\n",
    "# earthquakes are said to be independent, hence the value function is called independently at every station\n",
    "build = time.time()\n",
    "v_explosion1 = np.zeros((S,N))\n",
    "for s1 in range(S):\n",
    "    for i in range(N):\n",
    "        v_explosion1[s1][i] = value(x[s1],y[s1],x_sensor[i],y_sensor[i]) + sd*np.random.randn() # explosion value\n",
    "print('Took',time.time() - build,'seconds to build hypothesis space for 1 earthquake')\n",
    "\n",
    "# Building hypothesis space for 2 explosions - done in question 1\n",
    "v_explosion2 = v"
   ]
  },
  {
   "cell_type": "markdown",
   "metadata": {},
   "source": [
    "### Computing likelihood for both situations"
   ]
  },
  {
   "cell_type": "code",
   "execution_count": 82,
   "metadata": {},
   "outputs": [],
   "source": [
    "# for 1 explosion\n",
    "like_single = np.ones(S)\n",
    "for i in range(N):\n",
    "    like_single *= norm.pdf(v_explosion1[:,i], data[i], sd) \n",
    "single_sum = like_single.sum()\n",
    "\n",
    "# for 2 explosions - done above"
   ]
  },
  {
   "cell_type": "markdown",
   "metadata": {},
   "source": [
    "### Computing log-likelihoods"
   ]
  },
  {
   "cell_type": "code",
   "execution_count": 86,
   "metadata": {},
   "outputs": [
    {
     "name": "stdout",
     "output_type": "stream",
     "text": [
      "The value to report is: 676.9970634733385\n",
      "The bayes factor is  1.0377408939269421e+294\n"
     ]
    }
   ],
   "source": [
    "log_comp = np.log(double_sum.sum()/2000) - np.log(single_sum)\n",
    "print('The value to report is:',log_comp)\n",
    "print('The bayes factor is ',np.exp(log_comp))"
   ]
  },
  {
   "cell_type": "markdown",
   "metadata": {},
   "source": [
    "When computing the Bayes Factor, we are assuming that the 2 explosion case is the null hypothesis and the 1 explosion case is the alternate hypothesis. Given the resulting BF of 0.18, we can say that there is moderate evidence for H1, (ie. for a 1 explosion scenario)."
   ]
  },
  {
   "cell_type": "markdown",
   "metadata": {},
   "source": [
    "# Question 3\n",
    "see latex"
   ]
  },
  {
   "cell_type": "markdown",
   "metadata": {},
   "source": [
    "# Question 4\n",
    "see latex"
   ]
  },
  {
   "cell_type": "code",
   "execution_count": null,
   "metadata": {},
   "outputs": [],
   "source": []
  }
 ],
 "metadata": {
  "kernelspec": {
   "display_name": "Python 3",
   "language": "python",
   "name": "python3"
  },
  "language_info": {
   "codemirror_mode": {
    "name": "ipython",
    "version": 3
   },
   "file_extension": ".py",
   "mimetype": "text/x-python",
   "name": "python",
   "nbconvert_exporter": "python",
   "pygments_lexer": "ipython3",
   "version": "3.7.1"
  }
 },
 "nbformat": 4,
 "nbformat_minor": 2
}
