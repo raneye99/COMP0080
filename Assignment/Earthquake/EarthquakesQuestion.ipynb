{
 "cells": [
  {
   "cell_type": "code",
   "execution_count": 2,
   "metadata": {},
   "outputs": [],
   "source": [
    "import numpy as np\n",
    "import sys\n",
    "np.set_printoptions(threshold=sys.maxsize)\n",
    "import matplotlib.pyplot as plt\n",
    "from itertools import product\n",
    "import time\n",
    "import os\n",
    "from scipy.stats import norm\n",
    "\n",
    "%config InlineBackend.figure_format = 'retina'"
   ]
  },
  {
   "cell_type": "code",
   "execution_count": 3,
   "metadata": {},
   "outputs": [],
   "source": [
    "data = np.loadtxt('EarthquakeExerciseData.txt')\n",
    "scaled_data = 1 + data/max(data) # for plotting purposes\n",
    "# adding 1 to the obvs value to ensure outward projection, (cos and sin values of the )"
   ]
  },
  {
   "cell_type": "code",
   "execution_count": 4,
   "metadata": {},
   "outputs": [],
   "source": [
    "def value(x_true,y_true,x_sensor,y_sensor):\n",
    "    return 1/(0.1+ (x_true-x_sensor)**2 + (y_true-y_sensor)**2)"
   ]
  },
  {
   "cell_type": "markdown",
   "metadata": {},
   "source": [
    "# Question 1"
   ]
  },
  {
   "cell_type": "markdown",
   "metadata": {},
   "source": [
    "### Building spherical coordinate system"
   ]
  },
  {
   "cell_type": "code",
   "execution_count": 5,
   "metadata": {},
   "outputs": [],
   "source": [
    "S=2000 # number of points on the spiral\n",
    "rate=25 # angular rate of spiral\n",
    "sd=0.2 # standard deviation of the sensor Gaussian noise\n",
    "\n",
    "# building the spherical coordinate system as done in setup file\n",
    "x=np.zeros(S)\n",
    "y=np.zeros(S)\n",
    "for s in range(S):\n",
    "    theta=rate*2*np.pi*s/S \n",
    "    r=s/S\n",
    "    x[s]=r*np.cos(theta)\n",
    "    y[s]=r*np.sin(theta)\n"
   ]
  },
  {
   "cell_type": "markdown",
   "metadata": {},
   "source": [
    "### Computing station locations"
   ]
  },
  {
   "cell_type": "code",
   "execution_count": 6,
   "metadata": {},
   "outputs": [
    {
     "data": {
      "text/plain": [
       "<matplotlib.collections.PathCollection at 0x12d711ba8>"
      ]
     },
     "execution_count": 6,
     "metadata": {},
     "output_type": "execute_result"
    },
    {
     "data": {
      "image/png": "[encoded data removed]",
      "text/plain": [
       "<Figure size 432x288 with 1 Axes>"
      ]
     },
     "metadata": {
      "needs_background": "light"
     },
     "output_type": "display_data"
    }
   ],
   "source": [
    "# getting positions of the stations    \n",
    "N=len(data) # number of stations\n",
    "sd=0.2 # standard deviation of the sensor noise\n",
    "x_sensor = np.zeros(N)\n",
    "y_sensor = np.zeros(N)\n",
    "for sensor in range(N):\n",
    "    theta_sensor = 2*np.pi*sensor/N\n",
    "    x_sensor[sensor] = np.cos(theta_sensor)\n",
    "    y_sensor[sensor] = np.sin(theta_sensor)\n",
    "\n",
    "# plotting positions of the stations\n",
    "plt.scatter(x_sensor, y_sensor)"
   ]
  },
  {
   "cell_type": "markdown",
   "metadata": {},
   "source": [
    "### Building hypothesis space"
   ]
  },
  {
   "cell_type": "code",
   "execution_count": 7,
   "metadata": {},
   "outputs": [
    {
     "name": "stdout",
     "output_type": "stream",
     "text": [
      "Building the hypothesis space...\n",
      "Took 210.3576419353485 seconds to build hypothesis space for 2 earthquakes\n"
     ]
    }
   ],
   "source": [
    "# Building hypothesis space\n",
    "# earthquakes are said to be independent, hence the value function is called independently at every station\n",
    "print('Building the hypothesis space...')\n",
    "build = time.time()\n",
    "hypothesis = np.zeros((S,N))\n",
    "for s in range(0,S):\n",
    "    for i in range(N):\n",
    "        hypothesis[s][i]=value(x[s],y[s],x_sensor[i],y_sensor[i])\n",
    "\n",
    "v = np.zeros((S,S, N))\n",
    "for sensor in range(30):\n",
    "    for j in range(S):\n",
    "        for k in range(S):\n",
    "            v[j,k,i] = hypothesis[j,sensor] + hypothesis[k,sensor] + sd*np.random.randn() # explosion value\n",
    "\n",
    "print('Took',time.time() - build,'seconds to build hypothesis space for 2 earthquakes')\n",
    "\n"
   ]
  },
  {
   "cell_type": "markdown",
   "metadata": {},
   "source": [
    "### Computing/Plotting posterior distribution\n",
    "Given that prior is uniform, posterior is proportional to the likelihood."
   ]
  },
  {
   "cell_type": "code",
   "execution_count": 30,
   "metadata": {},
   "outputs": [],
   "source": [
    "# Determine likelihood, p(location|observed sensor values), given these sensor values\n",
    "like = np.ones((S,S)) \n",
    "for sensor in range(N):\n",
    "    like[:, :] *= norm.pdf(v[:,:,sensor], data[sensor], sd)\n",
    "double_sum = np.sum(like,axis = 0) # summing along one direction in order to marginalise out s2\n",
    "double_scale = double_sum/double_sum.max()"
   ]
  },
  {
   "cell_type": "code",
   "execution_count": 31,
   "metadata": {},
   "outputs": [
    {
     "data": {
      "image/png": "[encoded data removed]",
      "text/plain": [
       "<Figure size 432x288 with 1 Axes>"
      ]
     },
     "metadata": {
      "needs_background": "light"
     },
     "output_type": "display_data"
    }
   ],
   "source": [
    "plt.figure()\n",
    "\n",
    "\n",
    "# plotting posterior distribution of s1\n",
    "plt.scatter(x, y, s = double_scale*50,zorder = 0, color = \"black\")\n",
    "\n",
    "# plottling perimeter\n",
    "for theta in np.arange(0,2*np.pi,0.01):\n",
    "    plt.plot(np.cos(theta),np.sin(theta),\".\",color=[0,0,0])\n",
    "\n",
    "# plotting station locations\n",
    "for sensor in range(N):\n",
    "    plt.plot(x_sensor[sensor],y_sensor[sensor],\"o\",color=[1,0,0])\n",
    "\n",
    "# plotting observed values at each sensor (spikes shown in fig (1.3))\n",
    "for sensor in range(N):\n",
    "    scale =1\n",
    "    theta_sensor = 2*np.pi*sensor/N\n",
    "    base = [x_sensor[sensor],((scaled_data[sensor])*np.cos(theta_sensor))] \n",
    "    top = [y_sensor[sensor], ((scaled_data[sensor])*np.sin(theta_sensor))]\n",
    "    plt.plot(base, top,\"-\",color='b')\n",
    "\n",
    "\n",
    "plt.title(\"Distribution of $P(S_{1}|V)$\")\n",
    "plt.savefig('posterior.png')\n",
    "plt.show()\n"
   ]
  },
  {
   "cell_type": "markdown",
   "metadata": {},
   "source": [
    "# Question 2"
   ]
  },
  {
   "cell_type": "markdown",
   "metadata": {},
   "source": [
    "### Building hypotheses"
   ]
  },
  {
   "cell_type": "code",
   "execution_count": 23,
   "metadata": {},
   "outputs": [
    {
     "name": "stdout",
     "output_type": "stream",
     "text": [
      "Took 0.24996089935302734 seconds to build hypothesis space for 1 earthquake\n"
     ]
    }
   ],
   "source": [
    "# Building hypothesis space for 1 explosion\n",
    "# earthquakes are said to be independent, hence the value function is called independently at every station\n",
    "build = time.time()\n",
    "v_explosion1 = np.zeros((S,N))\n",
    "for s1 in range(S):\n",
    "    for i in range(N):\n",
    "        v_explosion1[s1][i] = value(x[s1],y[s1],x_sensor[i],y_sensor[i]) + sd*np.random.randn() # explosion value\n",
    "print('Took',time.time() - build,'seconds to build hypothesis space for 1 earthquake')\n",
    "\n",
    "# Building hypothesis space for 2 explosions - done in question 1\n",
    "v_explosion2 = v"
   ]
  },
  {
   "cell_type": "markdown",
   "metadata": {},
   "source": [
    "### Computing likelihood for both situations"
   ]
  },
  {
   "cell_type": "code",
   "execution_count": 24,
   "metadata": {},
   "outputs": [],
   "source": [
    "# for 1 explosion\n",
    "like_single = np.ones(S)\n",
    "for sensor in range(N):\n",
    "    like_single *= norm.pdf(v_explosion1[:,sensor], data[sensor], sd) \n",
    "single_sum = like_single.sum()\n",
    "\n",
    "# for 2 explosions - done above"
   ]
  },
  {
   "cell_type": "markdown",
   "metadata": {},
   "source": [
    "### Computing log-likelihoods"
   ]
  },
  {
   "cell_type": "code",
   "execution_count": 32,
   "metadata": {},
   "outputs": [
    {
     "name": "stdout",
     "output_type": "stream",
     "text": [
      "The value to report is: 665.2912268317301\n",
      "The bayes factor is  8.556746613945001e+288\n"
     ]
    }
   ],
   "source": [
    "log_comp = np.log(double_sum.sum()/2000) - np.log(single_sum)\n",
    "print('The value to report is:',log_comp)\n",
    "print('The bayes factor is ',np.exp(log_comp))"
   ]
  },
  {
   "cell_type": "markdown",
   "metadata": {},
   "source": [
    "These results suggest strong evidence for H2. This means that, given the observed sensor values, it is much more likely that there were 2 explosions instead of 1. Further explanations given in the report. "
   ]
  },
  {
   "cell_type": "markdown",
   "metadata": {},
   "source": [
    "# Question 3\n",
    "see latex"
   ]
  },
  {
   "cell_type": "markdown",
   "metadata": {},
   "source": [
    "# Question 4\n",
    "see latex"
   ]
  },
  {
   "cell_type": "code",
   "execution_count": null,
   "metadata": {},
   "outputs": [],
   "source": []
  }
 ],
 "metadata": {
  "kernelspec": {
   "display_name": "Python 3",
   "language": "python",
   "name": "python3"
  },
  "language_info": {
   "codemirror_mode": {
    "name": "ipython",
    "version": 3
   },
   "file_extension": ".py",
   "mimetype": "text/x-python",
   "name": "python",
   "nbconvert_exporter": "python",
   "pygments_lexer": "ipython3",
   "version": "3.7.1"
  }
 },
 "nbformat": 4,
 "nbformat_minor": 2
}
